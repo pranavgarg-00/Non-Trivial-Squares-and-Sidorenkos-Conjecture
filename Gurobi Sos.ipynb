{
 "cells": [
  {
   "cell_type": "code",
   "execution_count": 9,
   "id": "56679277",
   "metadata": {},
   "outputs": [],
   "source": [
    "import gurobipy as gp\n",
    "from gurobipy import GRB"
   ]
  },
  {
   "cell_type": "code",
   "execution_count": 10,
   "id": "cfde2626",
   "metadata": {},
   "outputs": [],
   "source": [
    "import pickle"
   ]
  },
  {
   "cell_type": "code",
   "execution_count": 11,
   "id": "91e28459",
   "metadata": {},
   "outputs": [],
   "source": [
    "# Make sure to open the appropriate file\n",
    "\n",
    "with open('6edgeCoeffs.pkl', 'rb') as f: \n",
    "    basic, coeffs = pickle.load(f)"
   ]
  },
  {
   "cell_type": "code",
   "execution_count": null,
   "id": "b6bd357f",
   "metadata": {},
   "outputs": [],
   "source": []
  },
  {
   "cell_type": "code",
   "execution_count": 12,
   "id": "19e4c2fc",
   "metadata": {},
   "outputs": [],
   "source": [
    "m = gp.Model()"
   ]
  },
  {
   "cell_type": "code",
   "execution_count": 13,
   "id": "6c287868",
   "metadata": {},
   "outputs": [],
   "source": [
    "x = m.addVars(len(coeffs), vtype = GRB.CONTINUOUS, name = 'x', lb = 0)"
   ]
  },
  {
   "cell_type": "code",
   "execution_count": 14,
   "id": "5838893a",
   "metadata": {},
   "outputs": [],
   "source": [
    "coeff_to_var = {}\n",
    "for i in range(len(coeffs)):\n",
    "    coeff_to_var[coeffs[i]] = i"
   ]
  },
  {
   "cell_type": "code",
   "execution_count": 15,
   "id": "84d04818",
   "metadata": {},
   "outputs": [],
   "source": [
    "for g in range(len(basic)):\n",
    "    expr = 0\n",
    "    for i in range(len(basic[g])):\n",
    "        expr += basic[g][i][0]*x[coeff_to_var[basic[g][i][1]]]\n",
    "    if (g != 25) and (g != 51): # the two numbers are the indices of the two graphs in the a - b expression\n",
    "        m.addConstr(expr == 0)\n",
    "    if (g == 25): # the a in the a - b expression\n",
    "        m.addConstr(expr == 1)\n",
    "    if (g == 51): # the b in the a - b expression\n",
    "        m.addConstr(expr == -1)"
   ]
  },
  {
   "cell_type": "code",
   "execution_count": 16,
   "id": "83c34519",
   "metadata": {},
   "outputs": [],
   "source": [
    "m.setObjective(0, GRB.MINIMIZE)"
   ]
  },
  {
   "cell_type": "code",
   "execution_count": 17,
   "id": "0af6d978",
   "metadata": {},
   "outputs": [
    {
     "name": "stdout",
     "output_type": "stream",
     "text": [
      "Gurobi Optimizer version 9.1.1 build v9.1.1rc0 (win64)\n",
      "Thread count: 6 physical cores, 12 logical processors, using up to 12 threads\n",
      "Optimize a model with 68 rows, 105502 columns and 300908 nonzeros\n",
      "Model fingerprint: 0xb2827521\n",
      "Coefficient statistics:\n",
      "  Matrix range     [1e+00, 2e+00]\n",
      "  Objective range  [0e+00, 0e+00]\n",
      "  Bounds range     [0e+00, 0e+00]\n",
      "  RHS range        [1e+00, 1e+00]\n",
      "\n",
      "Concurrent LP optimizer: primal simplex, dual simplex, and barrier\n",
      "Showing barrier log only...\n",
      "\n",
      "Presolve removed 42 rows and 105127 columns\n",
      "Presolve time: 0.11s\n",
      "Presolved: 26 rows, 375 columns, 1045 nonzeros\n",
      "\n",
      "Ordering time: 0.00s\n",
      "\n",
      "Barrier statistics:\n",
      " AA' NZ     : 2.410e+02\n",
      " Factor NZ  : 3.510e+02\n",
      " Factor Ops : 6.201e+03 (less than 1 second per iteration)\n",
      " Threads    : 1\n",
      "\n",
      "                  Objective                Residual\n",
      "Iter       Primal          Dual         Primal    Dual     Compl     Time\n",
      "   0   0.00000000e+00  0.00000000e+00  1.28e+01 0.00e+00  2.49e-02     0s\n",
      "   1   0.00000000e+00 -1.91985839e-01  2.56e+00 1.76e-03  5.03e-03     0s\n",
      "   2   0.00000000e+00 -1.40324682e-01  8.16e-02 0.00e+00  4.92e-04     0s\n",
      "   3   0.00000000e+00 -1.75541801e-02  1.17e-12 0.00e+00  4.64e-05     0s\n",
      "   4   0.00000000e+00 -1.75580959e-05  7.43e-14 8.67e-18  4.64e-08     0s\n",
      "   5   0.00000000e+00 -1.76235155e-11  4.62e-14 8.47e-21  4.66e-14     0s\n",
      "\n",
      "Barrier solved model in 5 iterations and 0.14 seconds\n",
      "Optimal objective 0.00000000e+00\n",
      "\n",
      "\n",
      "Solved with dual simplex\n",
      "Solved in 6 iterations and 0.14 seconds\n",
      "Optimal objective  0.000000000e+00\n"
     ]
    }
   ],
   "source": [
    "m.optimize()"
   ]
  },
  {
   "cell_type": "code",
   "execution_count": 18,
   "id": "f7a1af9d",
   "metadata": {},
   "outputs": [
    {
     "name": "stdout",
     "output_type": "stream",
     "text": [
      "x[2178] 1.0\n",
      "x[2829] 1.0\n",
      "x[17066] 1.0\n",
      "x[40463] 1.0\n",
      "x[82540] 1.0\n",
      "x[104914] 1.0\n"
     ]
    }
   ],
   "source": [
    "temp = []\n",
    "for v in m.getVars():\n",
    "    if v.x > 0:\n",
    "        print(v.varName, v.x)\n",
    "        temp.append(v.varName[2:-1])"
   ]
  },
  {
   "cell_type": "code",
   "execution_count": 19,
   "id": "b9ae19b2",
   "metadata": {},
   "outputs": [
    {
     "name": "stdout",
     "output_type": "stream",
     "text": [
      "[2178, 2829, 17066, 40463, 82540, 104914]\n"
     ]
    }
   ],
   "source": [
    "temp = list(map(int, temp))\n",
    "print(temp) \n",
    "\n",
    "# copy the output for the print_Sos function"
   ]
  },
  {
   "cell_type": "code",
   "execution_count": null,
   "id": "61e7c61a",
   "metadata": {},
   "outputs": [],
   "source": []
  },
  {
   "cell_type": "code",
   "execution_count": null,
   "id": "a6051817",
   "metadata": {},
   "outputs": [],
   "source": []
  }
 ],
 "metadata": {
  "kernelspec": {
   "display_name": "Python 3",
   "language": "python",
   "name": "python3"
  },
  "language_info": {
   "codemirror_mode": {
    "name": "ipython",
    "version": 3
   },
   "file_extension": ".py",
   "mimetype": "text/x-python",
   "name": "python",
   "nbconvert_exporter": "python",
   "pygments_lexer": "ipython3",
   "version": "3.8.8"
  }
 },
 "nbformat": 4,
 "nbformat_minor": 5
}
